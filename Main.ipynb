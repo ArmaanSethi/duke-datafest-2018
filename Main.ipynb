{
 "cells": [
  {
   "cell_type": "code",
   "execution_count": 54,
   "metadata": {
    "collapsed": true
   },
   "outputs": [],
   "source": [
    "import pickle\n",
    "import numpy as np\n",
    "import matplotlib.pyplot as plt\n",
    "import re\n",
    "import csv\n",
    "import datetime\n",
    "from tqdm import tqdm\n",
    "from matplotlib.patches import Polygon\n",
    "%matplotlib inline\n"
   ]
  },
  {
   "cell_type": "code",
   "execution_count": 4,
   "metadata": {
    "collapsed": true
   },
   "outputs": [],
   "source": [
    "jobAgeCount = pickle.load( open(\"jobage.p\", \"rb\"))\n",
    "clicks = pickle.load( open(\"clicks.p\", \"rb\"))\n",
    "hoc = pickle.load( open(\"hoc.p\", \"rb\"))\n",
    "category = pickle.load( open(\"category.p\", \"rb\"))\n",
    "count = 0\n",
    "cats = ['STEM', 'Business','Little/No Education', 'Liberal Arts', 'Technical', 'uncategorized']"
   ]
  },
  {
   "cell_type": "code",
   "execution_count": null,
   "metadata": {
    "scrolled": true
   },
   "outputs": [
    {
     "name": "stderr",
     "output_type": "stream",
     "text": [
      " 10%|█████▋                                                | 89595/858584 [1:43:38<14:49:30, 14.41it/s]"
     ]
    }
   ],
   "source": [
    "count = 0\n",
    "x = range(len(cats))\n",
    "stem = []\n",
    "buisness = []\n",
    "lne = []\n",
    "la = []\n",
    "tech = []\n",
    "uc = []\n",
    "for d in tqdm(clicks.keys()):\n",
    " #   count = count + 1\n",
    "    if jobAgeCount[d] != 0:\n",
    "        plt.xticks(x, cats)\n",
    "        plt.scatter(hoc[category[d]], clicks[d]/jobAgeCount[d])\n",
    "       # print(hoc[category[d]])\n",
    "        if hoc[category[d]] == \"0\":\n",
    "            stem.append(clicks[d]/jobAgeCount[d])\n",
    "        elif hoc[category[d]] == \"1\":\n",
    "            buisness.append(clicks[d]/jobAgeCount[d])\n",
    "        elif hoc[category[d]] == \"2\":\n",
    "            lne.append(clicks[d]/jobAgeCount[d])\n",
    "        elif hoc[category[d]] == \"3\":\n",
    "            la.append(clicks[d]/jobAgeCount[d])\n",
    "        elif hoc[category[d]] == \"4\":\n",
    "            tech.append(clicks[d]/jobAgeCount[d])\n",
    "        elif hoc[category[d]] == \"5\":\n",
    "            uc.append(clicks[d]/jobAgeCount[d])\n",
    "    #int(re.search(r'\\d+', str(d)).group())\n",
    "   # if count == 10000:\n",
    "   #     print(\"reach 1k\")\n",
    "   #     break\n",
    "   # if count%1000 == 0:\n",
    "    #    print(\"reach \" + str(count/1000) + \"k\")"
   ]
  },
  {
   "cell_type": "code",
   "execution_count": 49,
   "metadata": {},
   "outputs": [
    {
     "data": {
      "image/png": "[encoded data removed]",
      "text/plain": [
       "<matplotlib.figure.Figure at 0x29a245395f8>"
      ]
     },
     "metadata": {},
     "output_type": "display_data"
    }
   ],
   "source": [
    "#print(stem)\n",
    "np.array(stem).shape = (-1,1)\n",
    "np.array(buisness).shape = (-1,1)\n",
    "np.array(lne).shape = (-1,1)\n",
    "np.array(la).shape = (-1,1)\n",
    "np.array(tech).shape = (-1,1)\n",
    "np.array(uc).shape = (-1,1)\n",
    "#print(stem)\n",
    "data = [stem, buisness, lne, la, tech, uc]\n",
    "fig, ax = plt.subplots()\n",
    "bp = ax.boxplot(data,0,'', patch_artist=True)\n",
    "## add patch_artist=True option to ax.boxplot() \n",
    "## to get fill color\n",
    "#bp = ax.boxplot(data_to_plot, patch_artist=True)\n",
    "\n",
    "## change outline color, fill color and linewidth of the boxes\n",
    "for box in bp['boxes']:\n",
    "    # change outline color\n",
    "    box.set( color='#7570b3', linewidth=2)\n",
    "    # change fill color\n",
    "    box.set( facecolor = '#1b9e77' )\n",
    "\n",
    "## change color and linewidth of the whiskers\n",
    "for whisker in bp['whiskers']:\n",
    "    whisker.set(color='#7570b3', linewidth=2)\n",
    "\n",
    "## change color and linewidth of the caps\n",
    "for cap in bp['caps']:\n",
    "    cap.set(color='#7570b3', linewidth=2)\n",
    "\n",
    "## change color and linewidth of the medians\n",
    "for median in bp['medians']:\n",
    "    median.set(color='#b2df8a', linewidth=2)\n",
    "\n",
    "## change the style of fliers and their fill\n",
    "for flier in bp['fliers']:\n",
    "    flier.set(marker='o', color='#e7298a', alpha=0.5)\n",
    "              \n",
    "plt.show()"
   ]
  },
  {
   "cell_type": "code",
   "execution_count": null,
   "metadata": {
    "collapsed": true
   },
   "outputs": [],
   "source": []
  }
 ],
 "metadata": {
  "kernelspec": {
   "display_name": "Python 3",
   "language": "python",
   "name": "python3"
  },
  "language_info": {
   "codemirror_mode": {
    "name": "ipython",
    "version": 3
   },
   "file_extension": ".py",
   "mimetype": "text/x-python",
   "name": "python",
   "nbconvert_exporter": "python",
   "pygments_lexer": "ipython3",
   "version": "3.6.1"
  }
 },
 "nbformat": 4,
 "nbformat_minor": 2
}
