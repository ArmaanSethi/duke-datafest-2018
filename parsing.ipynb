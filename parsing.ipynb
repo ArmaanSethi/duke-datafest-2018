{
 "cells": [
  {
   "cell_type": "code",
   "execution_count": null,
   "metadata": {
    "collapsed": true
   },
   "outputs": [],
   "source": [
    "import csv\n",
    "from tqdm import tqdm\n",
    "from datetime import datetime\n"
   ]
  },
  {
   "cell_type": "code",
   "execution_count": null,
   "metadata": {
    "collapsed": true
   },
   "outputs": [],
   "source": [
    "#figure out datetime/duration\n",
    "\n",
    "# datetime_object1 = datetime.strptime('2017-01-15', '%Y-%m-%d')\n",
    "# datetime_object2 = datetime.strptime('2017-03-26', '%Y-%m-%d')\n",
    "# diff_temp = datetime_object2 - datetime_object1\n",
    "# print(datetime_object1)\n",
    "# print(datetime_object2)\n",
    "# print(diff_temp)\n",
    "# print(type(diff_temp.days))\n"
   ]
  },
  {
   "cell_type": "code",
   "execution_count": null,
   "metadata": {
    "collapsed": true
   },
   "outputs": [],
   "source": [
    "dates = {} #jobID --> (date1, date2)\n",
    "duration = {}\n",
    "days_between_clicks = {}\n",
    "experienceRequired = {} \n",
    "length = 17635287 #?\n",
    "\n",
    "with open('datafest2018.csv') as csvDataFile:\n",
    "    csvReader = csv.reader(csvDataFile)\n",
    "    for idx,row in tqdm(enumerate(csvReader)):\n",
    "        if(idx < 1):\n",
    "            print(row)\n",
    "        else:\n",
    "            country = row[3]\n",
    "            jobID = row[2]\n",
    "            companyID = row[1]\n",
    "            date = row[0]\n",
    "            date = datetime.strptime(row[0], '%Y-%m-%d') \n",
    "            experience = row[13]\n",
    "            if experience == \"\":\n",
    "                experience = 0\n",
    "            if(country == 'US'): # country is US\n",
    "                if jobID in dates: #already have start date\n",
    "                    data = dates[jobID]\n",
    "                \n",
    "                    diff = (date - data[1]).days #days between click\n",
    "                    if diff > days_between_clicks[jobID]: #max days between clicks\n",
    "                        days_between_clicks[jobID] = diff\n",
    "                    \n",
    "                    data[1] = date #new occurance \n",
    "                    dates[jobID] = data\n",
    "                    duration[jobID] = data[1] - data[0]\n",
    "                else: #put start date\n",
    "                    dates[jobID] = [date, date] #start date, last clicked date\n",
    "                    duration[jobID] = 100\n",
    "                    days_between_clicks[jobID] = -1\n",
    "#         else:\n",
    "#             break\n",
    "            \n"
   ]
  },
  {
   "cell_type": "code",
   "execution_count": null,
   "metadata": {
    "collapsed": true
   },
   "outputs": [],
   "source": [
    "# Prints the nicely formatted dictionary\n",
    "\n",
    "# import pprint\n",
    "# pprint.pprint(dates)\n",
    "# pprint.pprint(duration)\n",
    "# pprint.pprint(days_between_clicks)\n",
    "\n"
   ]
  },
  {
   "cell_type": "code",
   "execution_count": null,
   "metadata": {
    "collapsed": true
   },
   "outputs": [],
   "source": [
    "#random sanity tests \n",
    "print(duration['job0000876'])\n",
    "print(days_between_clicks['job0000876'])\n",
    "print(dates['job0000876'])\n"
   ]
  },
  {
   "cell_type": "code",
   "execution_count": null,
   "metadata": {
    "collapsed": true
   },
   "outputs": [],
   "source": [
    "import pickle\n",
    "\n",
    "pickle.dump(duration, open( \"duration.p\", \"wb\" ) )\n",
    "pickle.dump(days_between_clicks, open( \"days_between_clicks.p\", \"wb\" ) )\n",
    "pickle.dump(dates, open( \"dates.p\", \"wb\" ) )\n",
    "\n"
   ]
  },
  {
   "cell_type": "code",
   "execution_count": null,
   "metadata": {
    "collapsed": true
   },
   "outputs": [],
   "source": []
  }
 ],
 "metadata": {
  "kernelspec": {
   "display_name": "Python 3",
   "language": "python",
   "name": "python3"
  },
  "language_info": {
   "codemirror_mode": {
    "name": "ipython",
    "version": 3
   },
   "file_extension": ".py",
   "mimetype": "text/x-python",
   "name": "python",
   "nbconvert_exporter": "python",
   "pygments_lexer": "ipython3",
   "version": "3.6.1"
  }
 },
 "nbformat": 4,
 "nbformat_minor": 2
}
