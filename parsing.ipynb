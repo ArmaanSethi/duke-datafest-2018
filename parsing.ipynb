{
 "cells": [
  {
   "cell_type": "code",
   "execution_count": 19,
   "metadata": {},
   "outputs": [
    {
     "name": "stdout",
     "output_type": "stream",
     "text": [
      "2017-01-15 00:00:00\n",
      "2017-03-26 00:00:00\n",
      "70 days, 0:00:00\n",
      "<class 'int'>\n"
     ]
    }
   ],
   "source": [
    "import csv\n",
    "from tqdm import tqdm\n",
    "from datetime import datetime\n"
   ]
  },
  {
   "cell_type": "code",
   "execution_count": null,
   "metadata": {
    "collapsed": true
   },
   "outputs": [],
   "source": [
    "\n",
    "datetime_object1 = datetime.strptime('2017-01-15', '%Y-%m-%d')\n",
    "datetime_object2 = datetime.strptime('2017-03-26', '%Y-%m-%d')\n",
    "diff_temp = datetime_object2 - datetime_object1\n",
    "print(datetime_object1)\n",
    "print(datetime_object2)\n",
    "print(diff_temp)\n",
    "print(type(diff_temp.days))\n"
   ]
  },
  {
   "cell_type": "code",
   "execution_count": 23,
   "metadata": {},
   "outputs": [
    {
     "name": "stderr",
     "output_type": "stream",
     "text": [
      "12676it [00:00, 63334.31it/s]"
     ]
    },
    {
     "name": "stdout",
     "output_type": "stream",
     "text": [
      "['date', 'companyId', 'jobId', 'country', 'stateProvince', 'city', 'avgOverallRating', 'numReviews', 'industry', 'normTitle', 'normTitleCategory', 'descriptionCharacterLength', 'descriptionWordCount', 'experienceRequired', 'estimatedSalary', 'salaryCurrency', 'jobLanguage', 'supervisingJob', 'licenseRequiredJob', 'educationRequirement', 'jobAgeDays', 'clicks', 'localClicks']\n"
     ]
    },
    {
     "name": "stderr",
     "output_type": "stream",
     "text": [
      "17635297it [04:59, 58969.84it/s]\n"
     ]
    }
   ],
   "source": [
    "dates = {} #jobID --> (date1, date2)\n",
    "duration = {}\n",
    "days_between_clicks = {}\n",
    "length = 17635287 #?\n",
    "\n",
    "with open('datafest2018.csv') as csvDataFile:\n",
    "    csvReader = csv.reader(csvDataFile)\n",
    "    for idx,row in tqdm(enumerate(csvReader)):\n",
    "        if(idx < 1):\n",
    "            print(row)\n",
    "#         elif(idx < 50000):\n",
    "        else:\n",
    "            country = row[3]\n",
    "            jobID = row[2]\n",
    "            companyID = row[1]\n",
    "            date = row[0]\n",
    "            date = datetime.strptime(row[0], '%Y-%m-%d')            \n",
    "            if(country == 'US'): # country is US\n",
    "                if jobID in dates: #already have start date\n",
    "                    data = dates[jobID]\n",
    "                \n",
    "                    diff = (date - data[1]).days #days between click\n",
    "                    if diff > days_between_clicks[jobID]: #max days between clicks\n",
    "                        days_between_clicks[jobID] = diff\n",
    "                    \n",
    "                    data[1] = date #new occurance \n",
    "                    dates[jobID] = data\n",
    "                    duration[jobID] = data[1] - data[0]\n",
    "                else: #put start date\n",
    "                    dates[jobID] = [date, date] #start date, last clicked date\n",
    "                    duration[jobID] = 100\n",
    "                    days_between_clicks[jobID] = -1\n",
    "#         else:\n",
    "#             break\n",
    "            \n"
   ]
  },
  {
   "cell_type": "code",
   "execution_count": 24,
   "metadata": {},
   "outputs": [],
   "source": [
    "# import pprint\n",
    "# Prints the nicely formatted dictionary\n",
    "# pprint.pprint(dates)\n",
    "# pprint.pprint(duration)\n",
    "# pprint.pprint(days_between_clicks)\n",
    "\n"
   ]
  },
  {
   "cell_type": "code",
   "execution_count": 25,
   "metadata": {},
   "outputs": [
    {
     "name": "stdout",
     "output_type": "stream",
     "text": [
      "10 days, 0:00:00\n",
      "7\n",
      "[datetime.datetime(2016, 10, 5, 0, 0), datetime.datetime(2016, 10, 15, 0, 0)]\n"
     ]
    }
   ],
   "source": [
    "#random sanity tests \n",
    "print(duration['job0000876'])\n",
    "print(days_between_clicks['job0000876'])\n",
    "print(dates['job0000876'])\n"
   ]
  },
  {
   "cell_type": "code",
   "execution_count": 26,
   "metadata": {
    "collapsed": true
   },
   "outputs": [],
   "source": [
    "import pickle\n",
    "\n",
    "pickle.dump(duration, open( \"duration.p\", \"wb\" ) )\n",
    "pickle.dump(days_between_clicks, open( \"days_between_clicks.p\", \"wb\" ) )\n",
    "pickle.dump(dates, open( \"dates.p\", \"wb\" ) )\n",
    "\n"
   ]
  },
  {
   "cell_type": "code",
   "execution_count": null,
   "metadata": {
    "collapsed": true
   },
   "outputs": [],
   "source": []
  }
 ],
 "metadata": {
  "kernelspec": {
   "display_name": "Python 3",
   "language": "python",
   "name": "python3"
  },
  "language_info": {
   "codemirror_mode": {
    "name": "ipython",
    "version": 3
   },
   "file_extension": ".py",
   "mimetype": "text/x-python",
   "name": "python",
   "nbconvert_exporter": "python",
   "pygments_lexer": "ipython3",
   "version": "3.6.4"
  }
 },
 "nbformat": 4,
 "nbformat_minor": 2
}
